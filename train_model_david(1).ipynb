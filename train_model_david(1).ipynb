{
 "cells": [
  {
   "cell_type": "code",
   "execution_count": 1,
   "id": "d4bd65e1-c024-476c-bf7f-412179996366",
   "metadata": {},
   "outputs": [],
   "source": [
    "from torchvision.datasets.folder import ImageFolder\n",
    "from torchvision import transforms\n",
    "from torch.utils.data import DataLoader\n",
    "import torch\n",
    "from torchvision.utils import make_grid\n",
    "import matplotlib.pyplot as plt\n",
    "import numpy as np\n",
    "from tqdm.notebook import tqdm\n",
    "from statistics import mean\n",
    "import impaintingLib as imp\n",
    "\n",
    "import torchvision\n",
    "from mpl_toolkits.axes_grid1 import ImageGrid\n",
    "import torch.nn as nn\n",
    "\n",
    "device = torch.device('cuda' if torch.cuda.is_available() else 'cpu')"
   ]
  },
  {
   "cell_type": "code",
   "execution_count": 2,
   "id": "6c765a47-31b4-4059-9ab9-17471a4a4a24",
   "metadata": {},
   "outputs": [],
   "source": [
    "def allDataset():\n",
    "    datasets = []\n",
    "    datasets.append(imp.data.getDataset(\"./data/utk\",factorResize=2,doShuffle=True,doCrop=False))\n",
    "    datasets.append(imp.data.getDataset(\"./data/flickr\",factorResize=2,doShuffle=True,doCrop=False))\n",
    "    datasets.append(imp.data.getDataset(\"data/lfw\",factorResize=2,doShuffle=True))\n",
    "    datasets.append(imp.data.getDataset(\"./data/celeba\",factorResize=2,doShuffle=True))\n",
    "    return torch.utils.data.ConcatDataset(datasets)"
   ]
  },
  {
   "cell_type": "code",
   "execution_count": 3,
   "id": "70dc9008-1e59-4515-8a10-584203ab7b3b",
   "metadata": {},
   "outputs": [],
   "source": [
    "from torch.utils.tensorboard import SummaryWriter\n",
    "\n",
    "def train_inpainting_segmented_keypoints(net, optimizer, loader, alter, runName=\"bigRun\", scale_factor=4, epochs=5, simplify_seg=True, show_images=True):\n",
    "    \n",
    "    net.train()\n",
    "    accum_iter = 100 \n",
    "    lrs = []\n",
    "    current_lr = optimizer.param_groups[0][\"lr\"]\n",
    "    lambda1 = lambda epoch: 0.67 ** epoch\n",
    "    scheduler = torch.optim.lr_scheduler.LambdaLR(optimizer, lr_lambda=lambda1)\n",
    "    \n",
    "    t1 = tqdm(range(epochs), desc=f\"Training progress\", colour=\"#00ff00\")\n",
    "    \n",
    "    for epoch in t1:\n",
    "        running_loss = []\n",
    "        t2 = tqdm(loader, leave=False, colour=\"#005500\") \n",
    "\n",
    "        for batch_idx,(x,_) in enumerate(t2):\n",
    "            x = x.to(device)\n",
    "            x_prime = alter(x)\n",
    "            x = imp.data.randomTransfo(x)\n",
    "            \n",
    "            with torch.set_grad_enabled(True):\n",
    "                segmented = imp.components.get_segmentation(x, simplify=simplify_seg, scale_factor=scale_factor)\n",
    "                x_input = torch.cat((x_prime, segmented),dim=1)\n",
    "                keypointLayer = imp.components.getKeypoints(x)\n",
    "                x_input = torch.cat((x_input, keypointLayer),dim=1)\n",
    "\n",
    "                outputs = net(x_input)\n",
    "\n",
    "                loss = 1e-5\n",
    "                loss += torch.nn.L1Loss()(outputs, x)\n",
    "                loss += imp.loss.perceptualVGG(outputs, x)\n",
    "                loss += imp.loss.totalVariation(outputs, x)\n",
    "                loss /= accum_iter\n",
    "\n",
    "                running_loss.append(loss.item())\n",
    "                loss.backward()\n",
    "\n",
    "                if ((batch_idx + 1) % accum_iter == 0) or (batch_idx + 1 == len(t2)):\n",
    "                    optimizer.step()\n",
    "                    optimizer.zero_grad()\n",
    "                \n",
    "                t2.set_description(f'Epoch {epoch}, training loss: {mean(running_loss)}, LR : {current_lr}, epoch {epoch + 1}/{epochs}')\n",
    "                \n",
    "        current_lr = optimizer.param_groups[0][\"lr\"]\n",
    "        lrs.append(current_lr)\n",
    "        scheduler.step()\n",
    "                \n",
    "        t1.set_description(f'Epoch {epoch + 1}/{epochs}, LR : {current_lr}')\n",
    "            \n",
    "        if show_images:\n",
    "            imp.utils.plot_img(x[:8])\n",
    "            imp.utils.plot_img(x_prime[:8])\n",
    "            imp.utils.plot_img(segmented[:8])\n",
    "            imp.utils.plot_img(torch.clip(outputs[:8], 0, 1))\n",
    "            imp.utils.plot_img(keypointLayer[:8])\n",
    "            \n",
    "        #writer = SummaryWriter(\"runs/\" + runName)\n",
    "        #writer.add_scalar(\"training loss\", mean(running_loss), epoch)\n",
    "        #writer.add_image(\"Original\",make_grid(x[:8]))\n",
    "        #writer.add_image(\"Predict\",make_grid(torch.clip(outputs[:8], 0, 1)))\n",
    "        #writer.close()\n",
    "        #\n",
    "        #torch.save(net.state_dict(),\"./modelSave/14_09/{}_{}\".format(runName,epoch))# Gros entrainement"
   ]
  },
  {
   "cell_type": "code",
   "execution_count": null,
   "id": "da08d18a-d0eb-417d-8bdb-104fd734c09b",
   "metadata": {
    "tags": []
   },
   "outputs": [
    {
     "name": "stdout",
     "output_type": "stream",
     "text": [
      "292149 <torch.utils.data.dataset.ConcatDataset object at 0x7f038ecf50a0>\n",
      "9130 <torch.utils.data.dataloader.DataLoader object at 0x7f038ecf5820>\n"
     ]
    },
    {
     "data": {
      "application/vnd.jupyter.widget-view+json": {
       "model_id": "661b5348395644ecbbefd3ef83af7250",
       "version_major": 2,
       "version_minor": 0
      },
      "text/plain": [
       "Training progress:   0%|          | 0/30 [00:00<?, ?it/s]"
      ]
     },
     "metadata": {},
     "output_type": "display_data"
    },
    {
     "data": {
      "application/vnd.jupyter.widget-view+json": {
       "model_id": "1d5015954c034711a7de149eb7c45827",
       "version_major": 2,
       "version_minor": 0
      },
      "text/plain": [
       "  0%|          | 0/9130 [00:00<?, ?it/s]"
      ]
     },
     "metadata": {},
     "output_type": "display_data"
    }
   ],
   "source": [
    "factorResize = 2\n",
    "scale_factor = 2\n",
    "batch_size = 32\n",
    "runName = \"bestMore\"\n",
    "\n",
    "model = imp.model.UNet(5, netType=\"partial\").to(device) \n",
    "optimizer = torch.optim.Adam(model.parameters(), lr=1e-3, weight_decay=0.001)\n",
    "alter = imp.mask.Alter(resize=factorResize,seed=0,test=False).irregularMask # squareMask irregularMask\n",
    "\n",
    "dataset = allDataset()\n",
    "print(len(dataset),dataset)\n",
    "trainloader = DataLoader(dataset, num_workers=2, batch_size=batch_size, shuffle=True)\n",
    "print(len(trainloader),trainloader)\n",
    "\n",
    "train_inpainting_segmented_keypoints(model, optimizer, trainloader, alter, runName=runName, scale_factor=scale_factor, simplify_seg=True, epochs=30)"
   ]
  },
  {
   "cell_type": "code",
   "execution_count": null,
   "id": "e37714b9-e4aa-45bf-9a8d-a6bc46081feb",
   "metadata": {},
   "outputs": [],
   "source": []
  }
 ],
 "metadata": {
  "kernelspec": {
   "display_name": "Python 3 (ipykernel)",
   "language": "python",
   "name": "python3"
  },
  "language_info": {
   "codemirror_mode": {
    "name": "ipython",
    "version": 3
   },
   "file_extension": ".py",
   "mimetype": "text/x-python",
   "name": "python",
   "nbconvert_exporter": "python",
   "pygments_lexer": "ipython3",
   "version": "3.8.6"
  }
 },
 "nbformat": 4,
 "nbformat_minor": 5
}
