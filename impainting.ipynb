{
 "cells": [
  {
   "cell_type": "code",
   "execution_count": 4,
   "metadata": {},
   "outputs": [
    {
     "data": {
      "application/vnd.jupyter.widget-view+json": {
       "model_id": "f67b2f8b76e345f0b6bcc4f0c8981390",
       "version_major": 2,
       "version_minor": 0
      },
      "text/plain": [
       "  0%|          | 0/94 [00:00<?, ?it/s]"
      ]
     },
     "metadata": {},
     "output_type": "display_data"
    }
   ],
   "source": [
    "from impaintingLib import *\n",
    "\n",
    "trainloader, testloader = getFaces()\n",
    "\n",
    "model     = AutoEncoder().to(device)\n",
    "optimizer = torch.optim.Adam(model.parameters(), lr=1e-3, weight_decay=0.001)\n",
    "criterion = torch.nn.L1Loss()\n",
    "\n",
    "### Visualization :\n",
    "# - plot_all_img \n",
    "# - plot_last_img\n",
    "# - board_plot_last\n",
    "\n",
    "# Train\n",
    "alterFunc = Alter(min_cut=4, max_cut=60).squareMask\n",
    "visuFunc = None\n",
    "train(model, optimizer, trainloader, criterion, epochs=1, alter=alterFunc, visu=visuFunc)\n",
    "\n",
    "# Test\n",
    "visuFunc = Visu(runName = \"AutoEncodeEpo1\",save=False).board_plot_last\n",
    "test(model, testloader, alter=alterFunc, visu=visuFunc)\n",
    "\n",
    "# images, labels = next(iter(trainloader))\n",
    "# images = alterFunc(images)\n",
    "# visuFunc(images)"
   ]
  },
  {
   "cell_type": "raw",
   "metadata": {},
   "source": []
  },
  {
   "cell_type": "code",
   "execution_count": null,
   "metadata": {},
   "outputs": [],
   "source": []
  },
  {
   "cell_type": "code",
   "execution_count": null,
   "metadata": {},
   "outputs": [],
   "source": []
  }
 ],
 "metadata": {
  "interpreter": {
   "hash": "97cc609b13305c559618ec78a438abc56230b9381f827f22d070313b9a1f3777"
  },
  "kernelspec": {
   "display_name": "Python 3 (ipykernel)",
   "language": "python",
   "name": "python3"
  },
  "language_info": {
   "codemirror_mode": {
    "name": "ipython",
    "version": 3
   },
   "file_extension": ".py",
   "mimetype": "text/x-python",
   "name": "python",
   "nbconvert_exporter": "python",
   "pygments_lexer": "ipython3",
   "version": "3.8.6"
  },
  "toc-autonumbering": true,
  "toc-showcode": false
 },
 "nbformat": 4,
 "nbformat_minor": 4
}
