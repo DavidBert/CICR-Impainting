{
 "cells": [
  {
   "cell_type": "code",
   "execution_count": 1,
   "metadata": {},
   "outputs": [
    {
     "name": "stdout",
     "output_type": "stream",
     "text": [
      "57.0078125\n",
      "62.0\n"
     ]
    },
    {
     "data": {
      "application/vnd.jupyter.widget-view+json": {
       "model_id": "2f4bae9285cd48348769c70517238ab0",
       "version_major": 2,
       "version_minor": 0
      },
      "text/plain": [
       "  0%|          | 0/375 [00:00<?, ?it/s]"
      ]
     },
     "metadata": {},
     "output_type": "display_data"
    }
   ],
   "source": [
    "from impaintingLib import *\n",
    "from torch.utils.tensorboard import SummaryWriter\n",
    "\n",
    "### Visualization :\n",
    "# - plot_all_img \n",
    "# - plot_last_img\n",
    "# - board_plot_last\n",
    "\n",
    "### Alteration :\n",
    "# - squareMask\n",
    "\n",
    "### Models : \n",
    "# - AutoEncoder\n",
    "# - UNet\n",
    "# - UNetPartialConv\n",
    "# - SubPixelNetwork\n",
    "\n",
    "### Loss : \n",
    "# - torch.nn.L1Loss()\n",
    "# - torch.nn.L2Loss()\n",
    "# - perceptual_loss\n",
    "# - totalVariationLoss\n",
    "\n",
    "torch.cuda.empty_cache()\n",
    "print(torch.cuda.memory_allocated() / 1024**2)\n",
    "print(torch.cuda.memory_reserved() / 1024**2)\n",
    "\n",
    "# -------------- Parameters\n",
    "\n",
    "trainloader, testloader = getFaces()\n",
    "\n",
    "runName   = \"UNetPartialConv Perceptual Epo10\"\n",
    "model     = UNetPartialConv().to(device)\n",
    "\n",
    "optimizer  = torch.optim.Adam(model.parameters(), lr=1e-3, weight_decay=0.001)\n",
    "criterions =  [#totalVariationLoss,\n",
    "               #perceptual_loss,\n",
    "               torch.nn.L1Loss()]\n",
    "\n",
    "# -------------- Process\n",
    "\n",
    "# Train\n",
    "alterFunc = Alter(min_cut=4, max_cut=60).squareMask\n",
    "visuFunc  = None\n",
    "train(model, optimizer, trainloader, criterions, epochs=1, alter=alterFunc, visu=visuFunc, runName=runName)\n",
    "\n",
    "# Test\n",
    "alterFunc = alterFunc\n",
    "visuFunc  = Visu(runName = runName, save=False).board_plot_last\n",
    "test(model, testloader, alter=alterFunc, visu=visuFunc)\n",
    "\n",
    "# -------------- Display\n",
    "\n",
    "# Tensor Board Model\n",
    "writer = SummaryWriter(\"runs/\" + runName)\n",
    "example_input, _ = next(iter(trainloader))\n",
    "writer.add_graph(model,example_input.cuda())\n",
    "writer.close()"
   ]
  }
 ],
 "metadata": {
  "interpreter": {
   "hash": "97cc609b13305c559618ec78a438abc56230b9381f827f22d070313b9a1f3777"
  },
  "kernelspec": {
   "display_name": "Python 3 (ipykernel)",
   "language": "python",
   "name": "python3"
  },
  "language_info": {
   "codemirror_mode": {
    "name": "ipython",
    "version": 3
   },
   "file_extension": ".py",
   "mimetype": "text/x-python",
   "name": "python",
   "nbconvert_exporter": "python",
   "pygments_lexer": "ipython3",
   "version": "3.8.6"
  },
  "toc-autonumbering": true,
  "toc-showcode": false
 },
 "nbformat": 4,
 "nbformat_minor": 4
}
