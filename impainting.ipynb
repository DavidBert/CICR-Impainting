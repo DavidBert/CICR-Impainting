{
 "cells": [
  {
   "cell_type": "code",
   "execution_count": 3,
   "metadata": {},
   "outputs": [
    {
     "data": {
      "application/vnd.jupyter.widget-view+json": {
       "model_id": "cdf54c1e23bb485abedb53247a1a5ca6",
       "version_major": 2,
       "version_minor": 0
      },
      "text/plain": [
       "  0%|          | 0/39 [00:00<?, ?it/s]"
      ]
     },
     "metadata": {},
     "output_type": "display_data"
    }
   ],
   "source": [
    "from torch.utils.tensorboard import SummaryWriter\n",
    "import torch \n",
    "import impaintingLib as imp\n",
    "\n",
    "### Visualization :\n",
    "# - plot_original_img\n",
    "# - plot_altered_img\n",
    "# - plot_res_img\n",
    "# - plot_all_img\n",
    "# - board_plot_img\n",
    "# - board_loss_train\n",
    "# - board_loss_test\n",
    "\n",
    "### Alteration :\n",
    "# - squareMask\n",
    "\n",
    "### Models : \n",
    "# - AutoEncoder\n",
    "# - UNet\n",
    "# - UNetPartialConv\n",
    "# - SubPixelNetwork\n",
    "\n",
    "### Loss : \n",
    "# - torch.nn.L1Loss()\n",
    "# - torch.nn.L2Loss()\n",
    "# - perceptual_loss\n",
    "# - totalVariationLoss\n",
    "\n",
    "device = torch.device('cuda' if torch.cuda.is_available() else 'cpu')\n",
    "\n",
    "torch.manual_seed(0)\n",
    "\n",
    "# -------------- Parameters\n",
    "\n",
    "trainloader, testloader = imp.data.getFaces(shuffle=False,doNormalize=False)\n",
    "\n",
    "runName   = \"Unet_Perceptualae_Epoch120\"\n",
    "model     = imp.model.UNet().to(device)\n",
    "\n",
    "optimizer  = torch.optim.Adam(model.parameters(), lr=1e-3, weight_decay=0.001)\n",
    "criterions =  []\n",
    "\n",
    "alterFunc = imp.mask.Alter(min_cut=4, max_cut=60).squareMask\n",
    "\n",
    "# -------------- Process\n",
    "\n",
    "# --- Train\n",
    "visu      = imp.utils.Visu(runName = runName)\n",
    "visuFuncs = [visu.board_loss_train]\n",
    "\n",
    "# imp.process.train(model, optimizer, trainloader, criterions, epochs=1, alter=alterFunc, visuFuncs=visuFuncs)\n",
    "# imp.process.model_save(model,runName)\n",
    "\n",
    "# --- Test\n",
    "\n",
    "runName   = \"perceptualAE_L1\"\n",
    "model     = imp.model.AutoEncoder(3).to(device)\n",
    "visu      = imp.utils.Visu(runName = runName)\n",
    "visuFuncs = [visu.board_plot_img]\n",
    "\n",
    "model = imp.process.model_load(model,runName)\n",
    "imp.process.test(model, testloader, visuFuncs=visuFuncs)"
   ]
  },
  {
   "cell_type": "code",
   "execution_count": null,
   "metadata": {},
   "outputs": [],
   "source": []
  },
  {
   "cell_type": "code",
   "execution_count": null,
   "metadata": {},
   "outputs": [],
   "source": []
  }
 ],
 "metadata": {
  "interpreter": {
   "hash": "97cc609b13305c559618ec78a438abc56230b9381f827f22d070313b9a1f3777"
  },
  "kernelspec": {
   "display_name": "Python 3 (ipykernel)",
   "language": "python",
   "name": "python3"
  },
  "language_info": {
   "codemirror_mode": {
    "name": "ipython",
    "version": 3
   },
   "file_extension": ".py",
   "mimetype": "text/x-python",
   "name": "python",
   "nbconvert_exporter": "python",
   "pygments_lexer": "ipython3",
   "version": "3.8.6"
  },
  "toc-autonumbering": true,
  "toc-showcode": false
 },
 "nbformat": 4,
 "nbformat_minor": 4
}
