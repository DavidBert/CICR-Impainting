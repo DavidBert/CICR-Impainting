{
 "cells": [
  {
   "cell_type": "code",
   "execution_count": 1,
   "metadata": {},
   "outputs": [
    {
     "name": "stdout",
     "output_type": "stream",
     "text": [
      "Is GPU available ? True\n",
      "Mémoire allouée :  57.0078125\n",
      "Mémoire réservé :  62.0\n"
     ]
    },
    {
     "data": {
      "application/vnd.jupyter.widget-view+json": {
       "model_id": "4d1b994dc0694e5cadd97f2359ed0dc4",
       "version_major": 2,
       "version_minor": 0
      },
      "text/plain": [
       "  0%|          | 0/375 [00:00<?, ?it/s]"
      ]
     },
     "metadata": {},
     "output_type": "display_data"
    },
    {
     "ename": "KeyboardInterrupt",
     "evalue": "",
     "output_type": "error",
     "traceback": [
      "\u001b[0;31m---------------------------------------------------------------------------\u001b[0m",
      "\u001b[0;31mKeyboardInterrupt\u001b[0m                         Traceback (most recent call last)",
      "\u001b[0;32m/tmp/ipykernel_27706/2886464006.py\u001b[0m in \u001b[0;36m<module>\u001b[0;34m\u001b[0m\n\u001b[1;32m     54\u001b[0m \u001b[0mvisuFuncs\u001b[0m \u001b[0;34m=\u001b[0m \u001b[0;34m[\u001b[0m\u001b[0mvisu\u001b[0m\u001b[0;34m.\u001b[0m\u001b[0mboard_loss_train\u001b[0m\u001b[0;34m]\u001b[0m\u001b[0;34m\u001b[0m\u001b[0;34m\u001b[0m\u001b[0m\n\u001b[1;32m     55\u001b[0m \u001b[0;34m\u001b[0m\u001b[0m\n\u001b[0;32m---> 56\u001b[0;31m \u001b[0mimp\u001b[0m\u001b[0;34m.\u001b[0m\u001b[0mprocess\u001b[0m\u001b[0;34m.\u001b[0m\u001b[0mtrain\u001b[0m\u001b[0;34m(\u001b[0m\u001b[0mmodel\u001b[0m\u001b[0;34m,\u001b[0m \u001b[0moptimizer\u001b[0m\u001b[0;34m,\u001b[0m \u001b[0mtrainloader\u001b[0m\u001b[0;34m,\u001b[0m \u001b[0mcriterions\u001b[0m\u001b[0;34m,\u001b[0m \u001b[0mepochs\u001b[0m\u001b[0;34m=\u001b[0m\u001b[0;36m1\u001b[0m\u001b[0;34m,\u001b[0m \u001b[0malter\u001b[0m\u001b[0;34m=\u001b[0m\u001b[0malterFunc\u001b[0m\u001b[0;34m,\u001b[0m \u001b[0mvisuFuncs\u001b[0m\u001b[0;34m=\u001b[0m\u001b[0mvisuFuncs\u001b[0m\u001b[0;34m)\u001b[0m\u001b[0;34m\u001b[0m\u001b[0;34m\u001b[0m\u001b[0m\n\u001b[0m\u001b[1;32m     57\u001b[0m \u001b[0;31m# imp.process.model_save(model,runName)\u001b[0m\u001b[0;34m\u001b[0m\u001b[0;34m\u001b[0m\u001b[0;34m\u001b[0m\u001b[0m\n\u001b[1;32m     58\u001b[0m \u001b[0;34m\u001b[0m\u001b[0m\n",
      "\u001b[0;32m~/CICR-Impainting/impaintingLib/process.py\u001b[0m in \u001b[0;36mtrain\u001b[0;34m(model, optimizer, loader, criterions, epochs, alter, visuFuncs)\u001b[0m\n\u001b[1;32m     44\u001b[0m                 \u001b[0mloss\u001b[0m \u001b[0;34m+=\u001b[0m \u001b[0mcriterion\u001b[0m\u001b[0;34m(\u001b[0m\u001b[0mx_hat\u001b[0m\u001b[0;34m,\u001b[0m \u001b[0mx\u001b[0m\u001b[0;34m)\u001b[0m\u001b[0;34m\u001b[0m\u001b[0;34m\u001b[0m\u001b[0m\n\u001b[1;32m     45\u001b[0m \u001b[0;34m\u001b[0m\u001b[0m\n\u001b[0;32m---> 46\u001b[0;31m             \u001b[0mrunning_loss\u001b[0m\u001b[0;34m.\u001b[0m\u001b[0mappend\u001b[0m\u001b[0;34m(\u001b[0m\u001b[0mloss\u001b[0m\u001b[0;34m.\u001b[0m\u001b[0mitem\u001b[0m\u001b[0;34m(\u001b[0m\u001b[0;34m)\u001b[0m\u001b[0;34m/\u001b[0m\u001b[0mlen\u001b[0m\u001b[0;34m(\u001b[0m\u001b[0mcriterions\u001b[0m\u001b[0;34m)\u001b[0m\u001b[0;34m)\u001b[0m\u001b[0;34m\u001b[0m\u001b[0;34m\u001b[0m\u001b[0m\n\u001b[0m\u001b[1;32m     47\u001b[0m             \u001b[0moptimizer\u001b[0m\u001b[0;34m.\u001b[0m\u001b[0mzero_grad\u001b[0m\u001b[0;34m(\u001b[0m\u001b[0;34m)\u001b[0m\u001b[0;34m\u001b[0m\u001b[0;34m\u001b[0m\u001b[0m\n\u001b[1;32m     48\u001b[0m             \u001b[0mloss\u001b[0m\u001b[0;34m.\u001b[0m\u001b[0mbackward\u001b[0m\u001b[0;34m(\u001b[0m\u001b[0;34m)\u001b[0m\u001b[0;34m\u001b[0m\u001b[0;34m\u001b[0m\u001b[0m\n",
      "\u001b[0;31mKeyboardInterrupt\u001b[0m: "
     ]
    }
   ],
   "source": [
    "from torch.utils.tensorboard import SummaryWriter\n",
    "import torch \n",
    "import impaintingLib as imp\n",
    "\n",
    "### Visualization :\n",
    "# - plot_original_img\n",
    "# - plot_altered_img\n",
    "# - plot_res_img\n",
    "# - plot_all_img\n",
    "# - board_plot_last_img\n",
    "# - board_loss_train\n",
    "# - board_loss_test\n",
    "# - full_board\n",
    "\n",
    "### Alteration :\n",
    "# - squareMask\n",
    "\n",
    "### Models : \n",
    "# - AutoEncoder\n",
    "# - UNet\n",
    "# - UNetPartialConv\n",
    "# - SubPixelNetwork\n",
    "\n",
    "### Loss : \n",
    "# - torch.nn.L1Loss()\n",
    "# - torch.nn.L2Loss()\n",
    "# - perceptual_loss\n",
    "# - totalVariationLoss\n",
    "\n",
    "print(\"Is GPU available ?\", torch.cuda.is_available())\n",
    "device = torch.device('cuda' if torch.cuda.is_available() else 'cpu')\n",
    "\n",
    "torch.manual_seed(0)\n",
    "\n",
    "torch.cuda.empty_cache()\n",
    "print(\"Mémoire allouée : \", torch.cuda.memory_allocated() / 1024**2)\n",
    "print(\"Mémoire réservé : \", torch.cuda.memory_reserved() / 1024**2)\n",
    "\n",
    "# -------------- Parameters\n",
    "\n",
    "trainloader, testloader = imp.data.getFaces()\n",
    "\n",
    "runName   = \"test2\"\n",
    "model     = imp.model.UNet().to(device)\n",
    "\n",
    "optimizer  = torch.optim.Adam(model.parameters(), lr=1e-3, weight_decay=0.001)\n",
    "criterions =  [imp.loss.totalVariationLoss,\n",
    "               imp.loss.perceptual_loss,\n",
    "               torch.nn.L1Loss()]\n",
    "\n",
    "alterFunc = imp.mask.Alter(min_cut=4, max_cut=60).squareMask\n",
    "\n",
    "# -------------- Process\n",
    "\n",
    "# --- Train\n",
    "visu      = imp.utils.Visu(runName = runName)\n",
    "visuFuncs = [visu.board_loss_train]\n",
    "\n",
    "imp.process.train(model, optimizer, trainloader, criterions, epochs=1, alter=alterFunc, visuFuncs=visuFuncs)\n",
    "# imp.process.model_save(model,runName)\n",
    "\n",
    "# --- Test\n",
    "visu      = imp.utils.Visu(runName = runName)\n",
    "visuFuncs = [visu.board_loss_test,\n",
    "             visu.board_plot_last_img,\n",
    "             visu.plot_last_img]\n",
    "\n",
    "\n",
    "# model = imp.process.model_load(model,runName)\n",
    "imp.process.test(model, testloader, alter=alterFunc, visuFuncs=visuFuncs)\n",
    "\n",
    "# -------------- Display Model\n",
    "\n",
    "# Tensor Board Model\n",
    "# writer = SummaryWriter(\"runs/\" + runName)\n",
    "# example_input, _ = next(iter(trainloader))\n",
    "# writer.add_graph(model,example_input.cuda())\n",
    "# writer.close()"
   ]
  },
  {
   "cell_type": "code",
   "execution_count": null,
   "metadata": {},
   "outputs": [],
   "source": []
  },
  {
   "cell_type": "code",
   "execution_count": null,
   "metadata": {},
   "outputs": [],
   "source": []
  }
 ],
 "metadata": {
  "interpreter": {
   "hash": "97cc609b13305c559618ec78a438abc56230b9381f827f22d070313b9a1f3777"
  },
  "kernelspec": {
   "display_name": "Python 3 (ipykernel)",
   "language": "python",
   "name": "python3"
  },
  "language_info": {
   "codemirror_mode": {
    "name": "ipython",
    "version": 3
   },
   "file_extension": ".py",
   "mimetype": "text/x-python",
   "name": "python",
   "nbconvert_exporter": "python",
   "pygments_lexer": "ipython3",
   "version": "3.8.6"
  },
  "toc-autonumbering": true,
  "toc-showcode": false
 },
 "nbformat": 4,
 "nbformat_minor": 4
}
