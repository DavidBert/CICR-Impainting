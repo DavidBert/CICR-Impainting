{
 "cells": [
  {
   "cell_type": "code",
   "execution_count": 3,
   "metadata": {},
   "outputs": [
    {
     "ename": "TypeError",
     "evalue": "'module' object is not callable",
     "output_type": "error",
     "traceback": [
      "\u001b[0;31m---------------------------------------------------------------------------\u001b[0m",
      "\u001b[0;31mTypeError\u001b[0m                                 Traceback (most recent call last)",
      "\u001b[1;32m/home/thomas/Documents/GitHub/CICR-Impainting/impainting.ipynb Cell 1'\u001b[0m in \u001b[0;36m<cell line: 12>\u001b[0;34m()\u001b[0m\n\u001b[1;32m      <a href='vscode-notebook-cell:/home/thomas/Documents/GitHub/CICR-Impainting/impainting.ipynb#ch0000000?line=8'>9</a>\u001b[0m visuFunc \u001b[39m=\u001b[39m Visu(path \u001b[39m=\u001b[39m \u001b[39m\"\u001b[39m\u001b[39m./output/default.png\u001b[39m\u001b[39m\"\u001b[39m)\u001b[39m.\u001b[39mplot_imgs\n\u001b[1;32m     <a href='vscode-notebook-cell:/home/thomas/Documents/GitHub/CICR-Impainting/impainting.ipynb#ch0000000?line=9'>10</a>\u001b[0m alterFunc \u001b[39m=\u001b[39m Alter(min_cut\u001b[39m=\u001b[39m\u001b[39m4\u001b[39m, max_cut\u001b[39m=\u001b[39m\u001b[39m60\u001b[39m)\u001b[39m.\u001b[39msquareMask\n\u001b[0;32m---> <a href='vscode-notebook-cell:/home/thomas/Documents/GitHub/CICR-Impainting/impainting.ipynb#ch0000000?line=11'>12</a>\u001b[0m train(model, optimizer, trainloader, criterion, epochs\u001b[39m=\u001b[39;49m\u001b[39m3\u001b[39;49m, alter\u001b[39m=\u001b[39;49malterFunc, visu\u001b[39m=\u001b[39;49mvisuFunc)\n",
      "File \u001b[0;32m~/Documents/GitHub/CICR-Impainting/impaintingLib/process.py:11\u001b[0m, in \u001b[0;36mtrain\u001b[0;34m(model, optimizer, loader, criterion, epochs, alterFunc, visu, **kwargs)\u001b[0m\n\u001b[1;32m      <a href='file:///home/thomas/Documents/GitHub/CICR-Impainting/impaintingLib/process.py?line=8'>9</a>\u001b[0m \u001b[39mfor\u001b[39;00m epoch \u001b[39min\u001b[39;00m \u001b[39mrange\u001b[39m(epochs):\n\u001b[1;32m     <a href='file:///home/thomas/Documents/GitHub/CICR-Impainting/impaintingLib/process.py?line=9'>10</a>\u001b[0m     running_loss \u001b[39m=\u001b[39m []\n\u001b[0;32m---> <a href='file:///home/thomas/Documents/GitHub/CICR-Impainting/impaintingLib/process.py?line=10'>11</a>\u001b[0m     t \u001b[39m=\u001b[39m tqdm(loader)\n\u001b[1;32m     <a href='file:///home/thomas/Documents/GitHub/CICR-Impainting/impaintingLib/process.py?line=12'>13</a>\u001b[0m     \u001b[39mfor\u001b[39;00m x, _ \u001b[39min\u001b[39;00m t:\n\u001b[1;32m     <a href='file:///home/thomas/Documents/GitHub/CICR-Impainting/impaintingLib/process.py?line=13'>14</a>\u001b[0m         x \u001b[39m=\u001b[39m x\u001b[39m.\u001b[39mto(device)\n",
      "\u001b[0;31mTypeError\u001b[0m: 'module' object is not callable"
     ]
    }
   ],
   "source": [
    "from impaintingLib import *\n",
    "\n",
    "trainloader, testloader = getFaces()\n",
    "\n",
    "model     = AutoEncoder().to(device)\n",
    "optimizer = torch.optim.Adam(model.parameters(), lr=1e-3, weight_decay=0.001)\n",
    "criterion = torch.nn.L1Loss()\n",
    "\n",
    "visuFunc = Visu(path = \"./output/default.png\").plot_imgs\n",
    "alterFunc = Alter(min_cut=4, max_cut=60).squareMask\n",
    "\n",
    "train(model, optimizer, trainloader, criterion, epochs=3, alter=alterFunc, visu=visuFunc)\n",
    "\n",
    "\n",
    "# images, labels = next(iter(trainloader))\n",
    "# images = squareMask(images)\n",
    "# plot_img(images[:8])"
   ]
  }
 ],
 "metadata": {
  "interpreter": {
   "hash": "97cc609b13305c559618ec78a438abc56230b9381f827f22d070313b9a1f3777"
  },
  "kernelspec": {
   "display_name": "Python 3.10.4 64-bit",
   "language": "python",
   "name": "python3"
  },
  "language_info": {
   "codemirror_mode": {
    "name": "ipython",
    "version": 3
   },
   "file_extension": ".py",
   "mimetype": "text/x-python",
   "name": "python",
   "nbconvert_exporter": "python",
   "pygments_lexer": "ipython3",
   "version": "3.10.4"
  }
 },
 "nbformat": 4,
 "nbformat_minor": 2
}
