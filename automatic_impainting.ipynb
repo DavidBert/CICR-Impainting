{
 "cells": [
  {
   "cell_type": "code",
   "execution_count": 1,
   "id": "f1c050f7-d4af-4bde-8cde-fbfce6a46dae",
   "metadata": {},
   "outputs": [],
   "source": [
    "import impaintingLib as imp\n",
    "import re\n",
    "\n",
    "from torch.utils.tensorboard import SummaryWriter\n",
    "import torch \n",
    "\n",
    "matcher = r\"model=(\\S+,{0,1})+ loss=(\\S+,{0,1})+\"\n",
    "device = torch.device('cuda' if torch.cuda.is_available() else 'cpu')\n",
    "trainloader, testloader = imp.data.getFaces(shuffle=False)\n",
    "alterFunc = imp.mask.Alter(min_cut=4, max_cut=60, seed=0).squareMask\n",
    "\n",
    "torch.manual_seed(0)\n",
    "\n",
    "def modelMatch(model):\n",
    "    \n",
    "    if \"autoenco\" in model :\n",
    "        res = imp.model.AutoEncoder().to(device)\n",
    "    elif \"unet\" in model :\n",
    "        if \"dilat\" in model :\n",
    "            res = imp.model.UNet(convType=\"dilated\").to(device)\n",
    "        else : \n",
    "            res = imp.model.UNet().to(device)\n",
    "    elif \"partial\" in model :\n",
    "        res = imp.model.UNet(netType=\"partial\").to(device)\n",
    "    elif \"subpix\" in model :\n",
    "        res = imp.model.SubPixelNetwork().to(device)\n",
    "        \n",
    "    else :\n",
    "        print(\"ERREUR : AUCUN MODELE RECONNUE DANS {}\".format(model))\n",
    "        \n",
    "    return res\n",
    "\n",
    "def lossMatch(loss):\n",
    "    \n",
    "    if \"l1\" in loss :\n",
    "        res = torch.nn.L1Loss()\n",
    "    elif \"l2\" in loss :\n",
    "        res = torch.nn.MSELoss()\n",
    "    elif \"vgg\" in loss :\n",
    "        res = imp.loss.perceptualVGG\n",
    "    elif \"ae\" in loss :\n",
    "        res = imp.loss.perceptualAE\n",
    "    elif \"totalvar\" in loss :\n",
    "        res = imp.loss.totalVariation\n",
    "        \n",
    "    else :\n",
    "        print(\"ERREUR : AUCUNE LOSS RECONNUE DANS {}\".format(loss))\n",
    "        \n",
    "    return res\n",
    "\n",
    "def parse(expeName = 'basic'):\n",
    "\n",
    "    count = 0\n",
    "    path = \"./routines/\" + expeName + \".txt\"\n",
    "    doSave = False\n",
    "    onlyTest = False\n",
    "    \n",
    "    with open(path) as file:\n",
    "        lines = file.readlines()\n",
    "\n",
    "    for i,line in enumerate(lines):\n",
    "        line = line.strip()\n",
    "\n",
    "        # 1ere ligne = epoch et param\n",
    "        if i < 1 :\n",
    "            lineSplit = line.split(\",\")\n",
    "            epoch = int(lineSplit[0])\n",
    "            \n",
    "            if \"save\" in lineSplit:\n",
    "                doSave = True\n",
    "                \n",
    "            if \"test\" in lineSplit:\n",
    "                onlyTest = True\n",
    "\n",
    "        # autres lignes = scenario\n",
    "        elif line and line[0] != \"#\" :\n",
    "            model_list,loss_list = re.search(matcher, line).groups()\n",
    "            model_list = model_list.split(\",\")\n",
    "            loss_list  = loss_list.split(\",\")\n",
    "            \n",
    "            losses = []\n",
    "            for loss in loss_list :\n",
    "                loss = loss.split(\"*\")\n",
    "                if len(loss) < 2 :\n",
    "                    loss = [\"1\"] + loss\n",
    "                    \n",
    "                loss[0] = int(loss[0])\n",
    "                loss[1] = lossMatch(loss[1].lower())\n",
    "                losses.append(loss)\n",
    "                \n",
    "            models = [modelMatch(model.lower()) for model in model_list]   \n",
    "            runName = \"{} {} Epoch{}\".format(\"-\".join(map(str, models)), \" + \".join(loss_list),epoch)\n",
    "            optimizer  = torch.optim.Adam(models[-1].parameters(), lr=1e-3, weight_decay=0.001)\n",
    "            visu       = imp.utils.Visu(runName = runName, expeName=expeName, save=doSave)\n",
    "            \n",
    "            print(\"------ Scénario {} : {}\".format(count,runName))\n",
    "            count += 1\n",
    "            \n",
    "            # Train\n",
    "            if not onlyTest : \n",
    "                print(\"- Train\")\n",
    "                visuFuncs = [#visu.board_loss_train\n",
    "                            ]\n",
    "                imp.process.train(models, optimizer, trainloader, losses, epochs=epoch, alter=alterFunc, visuFuncs=visuFuncs)\n",
    "\n",
    "                if doSave:\n",
    "                    imp.process.model_save(models,runName)\n",
    "            \n",
    "            # Test\n",
    "            if onlyTest : \n",
    "                models = imp.process.model_load(models,runName)\n",
    "            \n",
    "            print(\"- Test\")\n",
    "            \n",
    "            visuFuncs = [#visu.board_loss_test,\n",
    "                         #visu.board_plot_img,\n",
    "                         #visu.plot_res_img\n",
    "                        ]\n",
    "            imp.process.test(models, testloader, alter=alterFunc, visuFuncs=visuFuncs)"
   ]
  },
  {
   "cell_type": "code",
   "execution_count": 2,
   "id": "deccae0a-4986-4491-89b4-4a2e290a8420",
   "metadata": {},
   "outputs": [
    {
     "name": "stdout",
     "output_type": "stream",
     "text": [
      "------ Scénario 0 : UNet(default conv2d) L1 Epoch1\n",
      "- Train\n"
     ]
    },
    {
     "data": {
      "application/vnd.jupyter.widget-view+json": {
       "model_id": "82b9e437141140e3bd5e2cb3af5492fe",
       "version_major": 2,
       "version_minor": 0
      },
      "text/plain": [
       "  0%|          | 0/375 [00:00<?, ?it/s]"
      ]
     },
     "metadata": {},
     "output_type": "display_data"
    },
    {
     "name": "stdout",
     "output_type": "stream",
     "text": [
      "- Test\n"
     ]
    },
    {
     "data": {
      "application/vnd.jupyter.widget-view+json": {
       "model_id": "8a1fb74c43674aecafe70a31c0e3142a",
       "version_major": 2,
       "version_minor": 0
      },
      "text/plain": [
       "  0%|          | 0/39 [00:00<?, ?it/s]"
      ]
     },
     "metadata": {},
     "output_type": "display_data"
    }
   ],
   "source": [
    "parse(\"basic\")"
   ]
  },
  {
   "cell_type": "code",
   "execution_count": null,
   "id": "d4db455d-f481-4d57-ae6d-9a397c8d3f1f",
   "metadata": {},
   "outputs": [],
   "source": []
  },
  {
   "cell_type": "code",
   "execution_count": null,
   "id": "e7e222a7-0c6a-4951-a569-a3bb9a57ac60",
   "metadata": {},
   "outputs": [],
   "source": []
  }
 ],
 "metadata": {
  "kernelspec": {
   "display_name": "Python 3 (ipykernel)",
   "language": "python",
   "name": "python3"
  },
  "language_info": {
   "codemirror_mode": {
    "name": "ipython",
    "version": 3
   },
   "file_extension": ".py",
   "mimetype": "text/x-python",
   "name": "python",
   "nbconvert_exporter": "python",
   "pygments_lexer": "ipython3",
   "version": "3.8.6"
  }
 },
 "nbformat": 4,
 "nbformat_minor": 5
}
