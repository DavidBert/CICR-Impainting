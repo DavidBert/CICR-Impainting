{
 "cells": [
  {
   "cell_type": "code",
   "execution_count": 1,
   "id": "f1c050f7-d4af-4bde-8cde-fbfce6a46dae",
   "metadata": {},
   "outputs": [],
   "source": [
    "import impaintingLib as imp\n",
    "import re\n",
    "\n",
    "from torch.utils.tensorboard import SummaryWriter\n",
    "import torch \n",
    "\n",
    "matcher = r\"model=(\\S+) +loss=(\\S+,{0,1})+\"\n",
    "device = torch.device('cuda' if torch.cuda.is_available() else 'cpu')\n",
    "trainloader, testloader = imp.data.getFaces()\n",
    "alterFunc = imp.mask.Alter(min_cut=4, max_cut=60).squareMask\n",
    "\n",
    "def modelMatch(model):\n",
    "    \n",
    "    if \"autoenco\" in model :\n",
    "        res = imp.model.AutoEncoder().to(device)\n",
    "    elif \"unet\" in model :\n",
    "        res = imp.model.UNet().to(device)\n",
    "    elif \"partial\" in model :\n",
    "        res = imp.model.UNetPartialConv().to(device)\n",
    "    elif \"subpix\" in model :\n",
    "        res = imp.model.SubPixelNetwork().to(device)\n",
    "        \n",
    "    return res\n",
    "\n",
    "def lossMatch(loss):\n",
    "    \n",
    "    if \"l1\" in loss :\n",
    "        res = torch.nn.L1Loss()\n",
    "    elif \"l2\" in loss :\n",
    "        res = torch.nn.L2Loss()\n",
    "    elif \"percep\" in loss :\n",
    "        res = imp.loss.perceptual_loss\n",
    "    elif \"totalvar\" in loss :\n",
    "        res = imp.loss.totalVariationLoss\n",
    "        \n",
    "    return res\n",
    "\n",
    "def parse(routine = 'basic'):\n",
    "\n",
    "    count = 0\n",
    "    path = \"./routines/\" + routine + \".txt\"\n",
    "    \n",
    "    with open(path) as file:\n",
    "        lines = file.readlines()\n",
    "\n",
    "    for i,line in enumerate(lines):\n",
    "        line = line.strip()\n",
    "\n",
    "        # 1ere ligne = epoch\n",
    "        if i < 1 :\n",
    "            epoch = int(line)\n",
    "\n",
    "        # autres lignes = scenario\n",
    "        elif line :\n",
    "            model,losses = re.search(matcher, line).groups()\n",
    "            losses = losses.split(\",\")\n",
    "            losses = [x.capitalize() for x in losses]\n",
    "            runName = \"{} {}\".format(model.capitalize(),\" + \".join(losses))\n",
    "            \n",
    "            print(\"------ Scénario {} : {}\".format(count,runName))\n",
    "            count += 1\n",
    "\n",
    "            criterions = []\n",
    "            for loss in losses :\n",
    "                criterions.append(lossMatch(loss.lower()))\n",
    "            model = modelMatch(model.lower())\n",
    "            optimizer  = torch.optim.Adam(model.parameters(), lr=1e-3, weight_decay=0.001)\n",
    "            \n",
    "            # Train\n",
    "            visuFunc  = imp.utils.Visu(runName = runName).board_loss \n",
    "            imp.process.train(model, optimizer, trainloader, criterions, epochs=epoch, alter=alterFunc, visu=visuFunc)\n",
    "            # imp.process.model_save(model,runName)\n",
    "            \n",
    "            # Test\n",
    "            visuFunc  = imp.utils.Visu(runName = runName).board_plot_last_img\n",
    "            imp.process.test(model, testloader, alter=alterFunc, visu=visuFunc)"
   ]
  },
  {
   "cell_type": "code",
   "execution_count": null,
   "id": "deccae0a-4986-4491-89b4-4a2e290a8420",
   "metadata": {},
   "outputs": [
    {
     "name": "stdout",
     "output_type": "stream",
     "text": [
      "------ Scénario 0 : Autoencode L1\n"
     ]
    },
    {
     "data": {
      "application/vnd.jupyter.widget-view+json": {
       "model_id": "644e23d58c4747848b58ff0390f9b4b3",
       "version_major": 2,
       "version_minor": 0
      },
      "text/plain": [
       "  0%|          | 0/375 [00:00<?, ?it/s]"
      ]
     },
     "metadata": {},
     "output_type": "display_data"
    }
   ],
   "source": [
    "parse(\"basic\")"
   ]
  },
  {
   "cell_type": "code",
   "execution_count": null,
   "id": "46a92f95-98cd-4974-864c-e351330a2f01",
   "metadata": {},
   "outputs": [],
   "source": []
  }
 ],
 "metadata": {
  "kernelspec": {
   "display_name": "Python 3 (ipykernel)",
   "language": "python",
   "name": "python3"
  },
  "language_info": {
   "codemirror_mode": {
    "name": "ipython",
    "version": 3
   },
   "file_extension": ".py",
   "mimetype": "text/x-python",
   "name": "python",
   "nbconvert_exporter": "python",
   "pygments_lexer": "ipython3",
   "version": "3.8.6"
  }
 },
 "nbformat": 4,
 "nbformat_minor": 5
}
