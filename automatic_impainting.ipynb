{
 "cells": [
  {
   "cell_type": "code",
   "execution_count": 1,
   "id": "f1c050f7-d4af-4bde-8cde-fbfce6a46dae",
   "metadata": {},
   "outputs": [],
   "source": [
    "import impaintingLib as imp\n",
    "import re\n",
    "\n",
    "from torch.utils.tensorboard import SummaryWriter\n",
    "import torch \n",
    "\n",
    "matcher = r\"model=(\\S+) +loss=(\\S+,{0,1})+\"\n",
    "device = torch.device('cuda' if torch.cuda.is_available() else 'cpu')\n",
    "trainloader, testloader = imp.data.getFaces(shuffle=False)\n",
    "alterFunc = imp.mask.Alter(min_cut=4, max_cut=60, seed=0).squareMask\n",
    "\n",
    "torch.manual_seed(0)\n",
    "\n",
    "def modelMatch(model):\n",
    "    \n",
    "    if \"autoenco\" in model :\n",
    "        res = imp.model.AutoEncoder().to(device)\n",
    "    elif \"unet\" in model :\n",
    "        res = imp.model.UNet().to(device)\n",
    "    elif \"partial\" in model :\n",
    "        res = imp.model.UNetPartialConv().to(device)\n",
    "    elif \"subpix\" in model :\n",
    "        res = imp.model.SubPixelNetwork().to(device)\n",
    "        \n",
    "    return res\n",
    "\n",
    "def lossMatch(loss):\n",
    "    \n",
    "    if \"l1\" in loss :\n",
    "        res = torch.nn.L1Loss()\n",
    "    elif \"l2\" in loss :\n",
    "        res = torch.nn.L2Loss()\n",
    "    elif \"percep\" in loss :\n",
    "        res = imp.loss.perceptual_loss\n",
    "    elif \"totalvar\" in loss :\n",
    "        res = imp.loss.totalVariationLoss\n",
    "        \n",
    "    return res\n",
    "\n",
    "def parse(expeName = 'basic'):\n",
    "\n",
    "    count = 0\n",
    "    path = \"./routines/\" + expeName + \".txt\"\n",
    "    \n",
    "    with open(path) as file:\n",
    "        lines = file.readlines()\n",
    "\n",
    "    for i,line in enumerate(lines):\n",
    "        line = line.strip()\n",
    "\n",
    "        # 1ere ligne = epoch\n",
    "        if i < 1 :\n",
    "            epoch = int(line)\n",
    "\n",
    "        # autres lignes = scenario\n",
    "        elif line :\n",
    "            model,losses = re.search(matcher, line).groups()\n",
    "            losses = losses.split(\",\")\n",
    "            losses = [x.capitalize() for x in losses]\n",
    "            runName = \"{} {}\".format(model.capitalize(),\" + \".join(losses))\n",
    "            \n",
    "            print(\"------ Scénario {} : {}\".format(count,runName))\n",
    "            count += 1\n",
    "\n",
    "            criterions = []\n",
    "            for loss in losses :\n",
    "                loss = loss.split(\"*\")\n",
    "                if len(loss) < 2 :\n",
    "                    loss = [\"1\"] + loss\n",
    "                    \n",
    "                loss[0] = int(loss[0])\n",
    "                loss[1] = lossMatch(loss[1].lower())\n",
    "                criterions.append(loss)\n",
    "            \n",
    "            model = modelMatch(model.lower())\n",
    "            optimizer  = torch.optim.Adam(model.parameters(), lr=1e-3, weight_decay=0.001)\n",
    "            \n",
    "            # Train\n",
    "            print(\"- Train\")\n",
    "            visu      = imp.utils.Visu(runName = runName, expeName=expeName)\n",
    "            visuFuncs = [visu.board_loss_train]\n",
    "            \n",
    "            imp.process.train(model, optimizer, trainloader, criterions, epochs=epoch, alter=alterFunc, visuFuncs=visuFuncs)\n",
    "            imp.process.model_save(model,runName)\n",
    "            \n",
    "            # Test\n",
    "            print(\"- Test\")\n",
    "            visu      = imp.utils.Visu(runName = runName, expeName=expeName)\n",
    "            visuFuncs = [visu.board_loss_test,\n",
    "                         visu.board_plot_img]\n",
    "            imp.process.test(model, testloader, alter=alterFunc, visuFuncs=visuFuncs)"
   ]
  },
  {
   "cell_type": "code",
   "execution_count": null,
   "id": "deccae0a-4986-4491-89b4-4a2e290a8420",
   "metadata": {},
   "outputs": [
    {
     "name": "stdout",
     "output_type": "stream",
     "text": [
      "------ Scénario 0 : Unet Totalvar + Perceptual + L1\n",
      "- Train\n"
     ]
    },
    {
     "data": {
      "application/vnd.jupyter.widget-view+json": {
       "model_id": "4cfac57592174add85290134e276b608",
       "version_major": 2,
       "version_minor": 0
      },
      "text/plain": [
       "  0%|          | 0/375 [00:00<?, ?it/s]"
      ]
     },
     "metadata": {},
     "output_type": "display_data"
    },
    {
     "data": {
      "application/vnd.jupyter.widget-view+json": {
       "model_id": "166b4904e63c45c2a85c3594d47da8bb",
       "version_major": 2,
       "version_minor": 0
      },
      "text/plain": [
       "  0%|          | 0/375 [00:00<?, ?it/s]"
      ]
     },
     "metadata": {},
     "output_type": "display_data"
    }
   ],
   "source": [
    "parse(\"longUNet\")"
   ]
  }
 ],
 "metadata": {
  "kernelspec": {
   "display_name": "Python 3 (ipykernel)",
   "language": "python",
   "name": "python3"
  },
  "language_info": {
   "codemirror_mode": {
    "name": "ipython",
    "version": 3
   },
   "file_extension": ".py",
   "mimetype": "text/x-python",
   "name": "python",
   "nbconvert_exporter": "python",
   "pygments_lexer": "ipython3",
   "version": "3.8.6"
  }
 },
 "nbformat": 4,
 "nbformat_minor": 5
}
